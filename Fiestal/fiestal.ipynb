{
  "nbformat": 4,
  "nbformat_minor": 0,
  "metadata": {
    "colab": {
      "provenance": []
    },
    "kernelspec": {
      "name": "python3",
      "display_name": "Python 3"
    },
    "language_info": {
      "name": "python"
    }
  },
  "cells": [
    {
      "cell_type": "code",
      "execution_count": 2,
      "metadata": {
        "colab": {
          "base_uri": "https://localhost:8080/"
        },
        "id": "55m8xeLK6kQi",
        "outputId": "3ac0d05c-c5ba-49ec-f42f-9d7beed19a2b"
      },
      "outputs": [
        {
          "output_type": "stream",
          "name": "stdout",
          "text": [
            "Enter a string : attackatonce\n",
            "Result :  011000010111010001110100011000010110001101101011011000010111010001101111011011100110001101100101\n",
            "Enter a key : attack\n",
            "011000010111010001110100011000010110001101101011011000010111010001101111011011100110001101100101\n",
            "attackatonce\n"
          ]
        }
      ],
      "source": [
        "s = input(\"Enter a string : \")\n",
        "result = \"\".join(format(ord(i),'08b') for i in s)\n",
        "print(\"Result : \",result)\n",
        "l = int(len(result)/2)\n",
        "left = result[:l]\n",
        "right = result[l:]\n",
        "k = input(\"Enter a key : \")\n",
        "key = \"\".join(format(ord(i),'08b') for i in k)\n",
        "s = bin(int(right,2)+int(key,2))\n",
        "answer = bin(int(s[2:],2)^int(left,2))\n",
        "newr= answer[2:]\n",
        "newl = right\n",
        "newr,newl = newl,newr\n",
        "s= bin(int(newr,2)+int(key,2))\n",
        "ans = bin(int(s[2:],2) ^ int(newl,2))\n",
        "nl = newr\n",
        "nr = ans[2:]\n",
        "nl,nr = nr,nl\n",
        "cipher = nl+nr\n",
        "if(len(cipher)!=len(result)):\n",
        " while(len(cipher)!=len(result)):\n",
        "  cipher=\"0\"+cipher\n",
        "  print(cipher)\n",
        "plainText = \"\"\n",
        "for i in range(0,len(cipher),8):\n",
        " temp = cipher[i:i+8]\n",
        " d = int(temp,2)\n",
        " plainText=plainText+chr(d)\n",
        "print(plainText)\n"
      ]
    }
  ]
}