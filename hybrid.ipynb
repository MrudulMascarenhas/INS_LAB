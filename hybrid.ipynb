{
  "nbformat": 4,
  "nbformat_minor": 0,
  "metadata": {
    "colab": {
      "provenance": [],
      "authorship_tag": "ABX9TyPnpA5PbS6vSyxQ9XkPBvyM",
      "include_colab_link": true
    },
    "kernelspec": {
      "name": "python3",
      "display_name": "Python 3"
    },
    "language_info": {
      "name": "python"
    }
  },
  "cells": [
    {
      "cell_type": "markdown",
      "metadata": {
        "id": "view-in-github",
        "colab_type": "text"
      },
      "source": [
        "<a href=\"https://colab.research.google.com/github/MrudulMascarenhas/INS_LAB/blob/main/hybrid.ipynb\" target=\"_parent\"><img src=\"https://colab.research.google.com/assets/colab-badge.svg\" alt=\"Open In Colab\"/></a>"
      ]
    },
    {
      "cell_type": "code",
      "execution_count": 1,
      "metadata": {
        "id": "RWIyuvwZg0gX"
      },
      "outputs": [],
      "source": [
        "import numpy as np\n",
        "import math"
      ]
    },
    {
      "cell_type": "code",
      "source": [
        "def mod_inv(a, m):\n",
        "    \"\"\"Compute the modular inverse of a modulo m using Extended Euclidean Algorithm.\"\"\"\n",
        "    def egcd(a, b):\n",
        "        if a == 0:\n",
        "            return (b, 0, 1)\n",
        "        else:\n",
        "            g, y, x = egcd(b % a, a)\n",
        "            return (g, x - (b // a) * y, y)\n",
        "    g, x, _ = egcd(a, m)\n",
        "    if g != 1:\n",
        "        raise Exception(\"Modular inverse does not exist\")\n",
        "    return x % m"
      ],
      "metadata": {
        "id": "x_XE_1R5ixxO"
      },
      "execution_count": 2,
      "outputs": []
    },
    {
      "cell_type": "code",
      "source": [
        "def matrix_mod_inv(matrix, m):\n",
        "    \"\"\"Compute the inverse of a matrix modulo m.\"\"\"\n",
        "    n = matrix.shape[0]\n",
        "    # Calculate the determinant and its modular inverse.\n",
        "    det = int(round(np.linalg.det(matrix)))\n",
        "    det_inv = mod_inv(det % m, m)\n",
        "\n",
        "    # Compute the adjugate (transpose of cofactor matrix)\n",
        "    adj = np.zeros((n, n), dtype=int)\n",
        "    for i in range(n):\n",
        "        for j in range(n):\n",
        "            # Create minor matrix for element (i,j)\n",
        "            minor = np.delete(np.delete(matrix, i, axis=0), j, axis=1)\n",
        "            cofactor = ((-1) ** (i + j)) * int(round(np.linalg.det(minor)))\n",
        "            adj[j][i] = cofactor % m  # note the transpose here\n",
        "    return (det_inv * adj) % m"
      ],
      "metadata": {
        "id": "YBT5ecXYi2A3"
      },
      "execution_count": 3,
      "outputs": []
    },
    {
      "cell_type": "code",
      "source": [
        "def hill_encrypt(plaintext, key_matrix, m=26):\n",
        "    \"\"\"Encrypt plaintext using the Hill cipher.\"\"\"\n",
        "    plaintext = plaintext.upper().replace(\" \", \"\")\n",
        "    n = key_matrix.shape[0]\n",
        "    # Pad plaintext if needed so that its length is a multiple of n.\n",
        "    while len(plaintext) % n != 0:\n",
        "        plaintext += \"X\"\n",
        "    ciphertext = \"\"\n",
        "    for i in range(0, len(plaintext), n):\n",
        "        block = plaintext[i:i+n]\n",
        "        vector = np.array([ord(c) - ord('A') for c in block]).reshape(n, 1)\n",
        "        encrypted_vector = np.dot(key_matrix, vector) % m\n",
        "        block_cipher = \"\".join(chr(int(num) + ord('A')) for num in encrypted_vector)\n",
        "        ciphertext += block_cipher\n",
        "    return ciphertext"
      ],
      "metadata": {
        "id": "KbtbzLsqi3Yp"
      },
      "execution_count": 4,
      "outputs": []
    },
    {
      "cell_type": "code",
      "source": [
        "def hill_decrypt(ciphertext, key_matrix, m=26):\n",
        "    \"\"\"Decrypt ciphertext using the Hill cipher.\"\"\"\n",
        "    n = key_matrix.shape[0]\n",
        "    inv_matrix = matrix_mod_inv(key_matrix, m)\n",
        "    plaintext = \"\"\n",
        "    for i in range(0, len(ciphertext), n):\n",
        "        block = ciphertext[i:i+n]\n",
        "        vector = np.array([ord(c) - ord('A') for c in block]).reshape(n, 1)\n",
        "        decrypted_vector = np.dot(inv_matrix, vector) % m\n",
        "        block_plain = \"\".join(chr(int(num) + ord('A')) for num in decrypted_vector)\n",
        "        plaintext += block_plain\n",
        "    return plaintext"
      ],
      "metadata": {
        "id": "5TSVvfE4i64H"
      },
      "execution_count": null,
      "outputs": []
    }
  ]
}