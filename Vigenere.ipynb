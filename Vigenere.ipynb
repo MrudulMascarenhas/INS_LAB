{
  "nbformat": 4,
  "nbformat_minor": 0,
  "metadata": {
    "colab": {
      "provenance": [],
      "authorship_tag": "ABX9TyMEAqcb1Ok8j7LHPJpZEONl",
      "include_colab_link": true
    },
    "kernelspec": {
      "name": "python3",
      "display_name": "Python 3"
    },
    "language_info": {
      "name": "python"
    }
  },
  "cells": [
    {
      "cell_type": "markdown",
      "metadata": {
        "id": "view-in-github",
        "colab_type": "text"
      },
      "source": [
        "<a href=\"https://colab.research.google.com/github/MrudulMascarenhas/INS_LAB/blob/main/Vigenere.ipynb\" target=\"_parent\"><img src=\"https://colab.research.google.com/assets/colab-badge.svg\" alt=\"Open In Colab\"/></a>"
      ]
    },
    {
      "cell_type": "code",
      "execution_count": 1,
      "metadata": {
        "id": "-uVEwXVX2xe6"
      },
      "outputs": [],
      "source": [
        "def vigenere_encrypt(plaintext, key):\n",
        "    key = key.upper()\n",
        "    ciphertext = \"\"\n",
        "    key_index = 0\n",
        "\n",
        "    for char in plaintext.upper():\n",
        "        if char.isalpha():\n",
        "            shift = ord(key[key_index]) - ord('A')\n",
        "            ciphertext += chr((ord(char) - ord('A') + shift) % 26 + ord('A'))\n",
        "            key_index = (key_index + 1) % len(key)\n",
        "        else:\n",
        "            ciphertext += char\n",
        "\n",
        "    return ciphertext"
      ]
    },
    {
      "cell_type": "code",
      "source": [
        "def vigenere_decrypt(ciphertext, key):\n",
        "    key = key.upper()\n",
        "    plaintext = \"\"\n",
        "    key_index = 0\n",
        "\n",
        "    for char in ciphertext.upper():\n",
        "        if char.isalpha():\n",
        "            shift = ord(key[key_index]) - ord('A')\n",
        "            plaintext += chr((ord(char) - ord('A') - shift) % 26 + ord('A'))\n",
        "            key_index = (key_index + 1) % len(key)\n",
        "        else:\n",
        "            plaintext += char\n",
        "\n",
        "    return plaintext"
      ],
      "metadata": {
        "id": "t9zst-1C3W-5"
      },
      "execution_count": 2,
      "outputs": []
    },
    {
      "cell_type": "code",
      "source": [
        "plaintext = \"HELLO\"\n",
        "key = \"KEY\"\n",
        "encrypted_text = vigenere_encrypt(plaintext, key)\n",
        "decrypted_text = vigenere_decrypt(encrypted_text, key)\n",
        "\n",
        "print(\"Encrypted text:\", encrypted_text)\n",
        "print(\"Decrypted text:\", decrypted_text)"
      ],
      "metadata": {
        "colab": {
          "base_uri": "https://localhost:8080/"
        },
        "id": "7aH_XEOw3arP",
        "outputId": "bddc8084-971e-475b-ccdb-d8688dd9efea"
      },
      "execution_count": 3,
      "outputs": [
        {
          "output_type": "stream",
          "name": "stdout",
          "text": [
            "Encrypted text: RIJVS\n",
            "Decrypted text: HELLO\n"
          ]
        }
      ]
    }
  ]
}